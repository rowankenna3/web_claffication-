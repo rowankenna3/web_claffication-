{
 "cells": [
  {
   "cell_type": "code",
   "execution_count": 1,
   "id": "a83ae089",
   "metadata": {},
   "outputs": [],
   "source": [
    "import pandas as pd\n",
    "import matplotlib.pyplot as plt\n",
    "import numpy as np\n",
    "import seaborn as sns\n",
    "\n",
    "import warnings\n",
    "warnings.filterwarnings('ignore')"
   ]
  },
  {
   "cell_type": "code",
   "execution_count": 2,
   "id": "bf0822ac",
   "metadata": {},
   "outputs": [],
   "source": [
    "df = pd.read_csv('kmeans - Sheet1.csv')"
   ]
  },
  {
   "cell_type": "code",
   "execution_count": 3,
   "id": "646d63d3",
   "metadata": {
    "scrolled": false
   },
   "outputs": [
    {
     "data": {
      "text/plain": [
       "Dependency       2507\n",
       "AvailNorm        2507\n",
       "throughNorm      2507\n",
       "successNorm      2507\n",
       "reliableNORM     2507\n",
       "compliantNorm    2507\n",
       "bestpracNorm     2507\n",
       "latencyNorm      2507\n",
       "documentNorm     2507\n",
       "k_Means          2507\n",
       "dtype: int64"
      ]
     },
     "execution_count": 3,
     "metadata": {},
     "output_type": "execute_result"
    }
   ],
   "source": [
    "df.isnull().count()"
   ]
  },
  {
   "cell_type": "code",
   "execution_count": 4,
   "id": "66ddd21e",
   "metadata": {
    "scrolled": false
   },
   "outputs": [
    {
     "data": {
      "text/html": [
       "<div>\n",
       "<style scoped>\n",
       "    .dataframe tbody tr th:only-of-type {\n",
       "        vertical-align: middle;\n",
       "    }\n",
       "\n",
       "    .dataframe tbody tr th {\n",
       "        vertical-align: top;\n",
       "    }\n",
       "\n",
       "    .dataframe thead th {\n",
       "        text-align: right;\n",
       "    }\n",
       "</style>\n",
       "<table border=\"1\" class=\"dataframe\">\n",
       "  <thead>\n",
       "    <tr style=\"text-align: right;\">\n",
       "      <th></th>\n",
       "      <th>Dependency</th>\n",
       "      <th>AvailNorm</th>\n",
       "      <th>throughNorm</th>\n",
       "      <th>successNorm</th>\n",
       "      <th>reliableNORM</th>\n",
       "      <th>compliantNorm</th>\n",
       "      <th>bestpracNorm</th>\n",
       "      <th>latencyNorm</th>\n",
       "      <th>documentNorm</th>\n",
       "      <th>k_Means</th>\n",
       "    </tr>\n",
       "  </thead>\n",
       "  <tbody>\n",
       "    <tr>\n",
       "      <th>1091</th>\n",
       "      <td>0.026450</td>\n",
       "      <td>0.20430</td>\n",
       "      <td>0.17674</td>\n",
       "      <td>0.19565</td>\n",
       "      <td>0.35714</td>\n",
       "      <td>1.00000</td>\n",
       "      <td>0.35556</td>\n",
       "      <td>0.00380</td>\n",
       "      <td>0.33333</td>\n",
       "      <td>2</td>\n",
       "    </tr>\n",
       "    <tr>\n",
       "      <th>2417</th>\n",
       "      <td>0.106306</td>\n",
       "      <td>0.89247</td>\n",
       "      <td>0.09767</td>\n",
       "      <td>0.96739</td>\n",
       "      <td>0.69643</td>\n",
       "      <td>0.67164</td>\n",
       "      <td>0.86667</td>\n",
       "      <td>0.01210</td>\n",
       "      <td>0.10417</td>\n",
       "      <td>3</td>\n",
       "    </tr>\n",
       "    <tr>\n",
       "      <th>1352</th>\n",
       "      <td>0.039130</td>\n",
       "      <td>0.87097</td>\n",
       "      <td>0.03488</td>\n",
       "      <td>0.95652</td>\n",
       "      <td>0.71429</td>\n",
       "      <td>1.00000</td>\n",
       "      <td>0.75556</td>\n",
       "      <td>0.00192</td>\n",
       "      <td>0.34375</td>\n",
       "      <td>3</td>\n",
       "    </tr>\n",
       "    <tr>\n",
       "      <th>572</th>\n",
       "      <td>0.037959</td>\n",
       "      <td>0.83871</td>\n",
       "      <td>0.53023</td>\n",
       "      <td>0.94565</td>\n",
       "      <td>0.71429</td>\n",
       "      <td>1.00000</td>\n",
       "      <td>0.66667</td>\n",
       "      <td>0.02627</td>\n",
       "      <td>0.03125</td>\n",
       "      <td>0</td>\n",
       "    </tr>\n",
       "    <tr>\n",
       "      <th>1382</th>\n",
       "      <td>0.014134</td>\n",
       "      <td>0.83871</td>\n",
       "      <td>0.77209</td>\n",
       "      <td>0.94565</td>\n",
       "      <td>0.83929</td>\n",
       "      <td>1.00000</td>\n",
       "      <td>0.82222</td>\n",
       "      <td>0.00018</td>\n",
       "      <td>0.03125</td>\n",
       "      <td>0</td>\n",
       "    </tr>\n",
       "    <tr>\n",
       "      <th>1106</th>\n",
       "      <td>0.148859</td>\n",
       "      <td>0.52688</td>\n",
       "      <td>0.11860</td>\n",
       "      <td>0.52174</td>\n",
       "      <td>0.83929</td>\n",
       "      <td>1.00000</td>\n",
       "      <td>0.62222</td>\n",
       "      <td>0.00157</td>\n",
       "      <td>0.93750</td>\n",
       "      <td>1</td>\n",
       "    </tr>\n",
       "  </tbody>\n",
       "</table>\n",
       "</div>"
      ],
      "text/plain": [
       "      Dependency  AvailNorm  throughNorm  successNorm  reliableNORM  \\\n",
       "1091    0.026450    0.20430      0.17674      0.19565       0.35714   \n",
       "2417    0.106306    0.89247      0.09767      0.96739       0.69643   \n",
       "1352    0.039130    0.87097      0.03488      0.95652       0.71429   \n",
       "572     0.037959    0.83871      0.53023      0.94565       0.71429   \n",
       "1382    0.014134    0.83871      0.77209      0.94565       0.83929   \n",
       "1106    0.148859    0.52688      0.11860      0.52174       0.83929   \n",
       "\n",
       "      compliantNorm  bestpracNorm  latencyNorm  documentNorm  k_Means  \n",
       "1091        1.00000       0.35556      0.00380       0.33333        2  \n",
       "2417        0.67164       0.86667      0.01210       0.10417        3  \n",
       "1352        1.00000       0.75556      0.00192       0.34375        3  \n",
       "572         1.00000       0.66667      0.02627       0.03125        0  \n",
       "1382        1.00000       0.82222      0.00018       0.03125        0  \n",
       "1106        1.00000       0.62222      0.00157       0.93750        1  "
      ]
     },
     "execution_count": 4,
     "metadata": {},
     "output_type": "execute_result"
    }
   ],
   "source": [
    "df.sample(6)"
   ]
  },
  {
   "cell_type": "code",
   "execution_count": 5,
   "id": "d1f8d56b",
   "metadata": {},
   "outputs": [
    {
     "name": "stdout",
     "output_type": "stream",
     "text": [
      "<class 'pandas.core.frame.DataFrame'>\n",
      "RangeIndex: 2507 entries, 0 to 2506\n",
      "Data columns (total 10 columns):\n",
      " #   Column         Non-Null Count  Dtype  \n",
      "---  ------         --------------  -----  \n",
      " 0   Dependency     2507 non-null   float64\n",
      " 1   AvailNorm      2507 non-null   float64\n",
      " 2   throughNorm    2507 non-null   float64\n",
      " 3   successNorm    2507 non-null   float64\n",
      " 4   reliableNORM   2507 non-null   float64\n",
      " 5   compliantNorm  2507 non-null   float64\n",
      " 6   bestpracNorm   2507 non-null   float64\n",
      " 7   latencyNorm    2507 non-null   float64\n",
      " 8   documentNorm   2507 non-null   float64\n",
      " 9   k_Means        2507 non-null   int64  \n",
      "dtypes: float64(9), int64(1)\n",
      "memory usage: 196.0 KB\n"
     ]
    }
   ],
   "source": [
    "df.info()"
   ]
  },
  {
   "cell_type": "code",
   "execution_count": 6,
   "id": "dd756bb6",
   "metadata": {
    "scrolled": true
   },
   "outputs": [],
   "source": [
    "X = df.iloc[:,0:9]# Dependency,AvailNorm,throughNorm,successNorm,reliableNORM,compliantNorm,bestpracNorm,latencyNorm,documentNorm,k_Means   \n",
    "y = df.iloc[:,-1:]#K_means"
   ]
  },
  {
   "cell_type": "code",
   "execution_count": 7,
   "id": "6471155d",
   "metadata": {
    "scrolled": true
   },
   "outputs": [
    {
     "data": {
      "text/html": [
       "<div>\n",
       "<style scoped>\n",
       "    .dataframe tbody tr th:only-of-type {\n",
       "        vertical-align: middle;\n",
       "    }\n",
       "\n",
       "    .dataframe tbody tr th {\n",
       "        vertical-align: top;\n",
       "    }\n",
       "\n",
       "    .dataframe thead th {\n",
       "        text-align: right;\n",
       "    }\n",
       "</style>\n",
       "<table border=\"1\" class=\"dataframe\">\n",
       "  <thead>\n",
       "    <tr style=\"text-align: right;\">\n",
       "      <th></th>\n",
       "      <th>Dependency</th>\n",
       "      <th>AvailNorm</th>\n",
       "      <th>throughNorm</th>\n",
       "      <th>successNorm</th>\n",
       "      <th>reliableNORM</th>\n",
       "      <th>compliantNorm</th>\n",
       "      <th>bestpracNorm</th>\n",
       "      <th>latencyNorm</th>\n",
       "      <th>documentNorm</th>\n",
       "    </tr>\n",
       "  </thead>\n",
       "  <tbody>\n",
       "    <tr>\n",
       "      <th>1197</th>\n",
       "      <td>0.041049</td>\n",
       "      <td>0.52688</td>\n",
       "      <td>0.02791</td>\n",
       "      <td>0.53261</td>\n",
       "      <td>0.48214</td>\n",
       "      <td>0.67164</td>\n",
       "      <td>0.64444</td>\n",
       "      <td>0.00199</td>\n",
       "      <td>0.08333</td>\n",
       "    </tr>\n",
       "    <tr>\n",
       "      <th>2014</th>\n",
       "      <td>0.041836</td>\n",
       "      <td>0.83871</td>\n",
       "      <td>0.04884</td>\n",
       "      <td>0.94565</td>\n",
       "      <td>0.60714</td>\n",
       "      <td>1.00000</td>\n",
       "      <td>0.71111</td>\n",
       "      <td>0.00728</td>\n",
       "      <td>0.11458</td>\n",
       "    </tr>\n",
       "    <tr>\n",
       "      <th>446</th>\n",
       "      <td>0.005855</td>\n",
       "      <td>0.81720</td>\n",
       "      <td>0.77442</td>\n",
       "      <td>0.82609</td>\n",
       "      <td>0.80357</td>\n",
       "      <td>0.83582</td>\n",
       "      <td>0.86667</td>\n",
       "      <td>0.00042</td>\n",
       "      <td>0.04167</td>\n",
       "    </tr>\n",
       "    <tr>\n",
       "      <th>1732</th>\n",
       "      <td>0.018883</td>\n",
       "      <td>0.09677</td>\n",
       "      <td>0.07907</td>\n",
       "      <td>0.09783</td>\n",
       "      <td>0.16071</td>\n",
       "      <td>1.00000</td>\n",
       "      <td>0.42222</td>\n",
       "      <td>0.00393</td>\n",
       "      <td>0.90625</td>\n",
       "    </tr>\n",
       "    <tr>\n",
       "      <th>1872</th>\n",
       "      <td>0.020444</td>\n",
       "      <td>0.97849</td>\n",
       "      <td>0.33488</td>\n",
       "      <td>1.00000</td>\n",
       "      <td>0.71429</td>\n",
       "      <td>1.00000</td>\n",
       "      <td>0.75556</td>\n",
       "      <td>0.00475</td>\n",
       "      <td>0.39583</td>\n",
       "    </tr>\n",
       "    <tr>\n",
       "      <th>1370</th>\n",
       "      <td>0.024431</td>\n",
       "      <td>1.00000</td>\n",
       "      <td>0.53953</td>\n",
       "      <td>1.00000</td>\n",
       "      <td>0.83929</td>\n",
       "      <td>0.83582</td>\n",
       "      <td>0.82222</td>\n",
       "      <td>0.00018</td>\n",
       "      <td>0.09375</td>\n",
       "    </tr>\n",
       "  </tbody>\n",
       "</table>\n",
       "</div>"
      ],
      "text/plain": [
       "      Dependency  AvailNorm  throughNorm  successNorm  reliableNORM  \\\n",
       "1197    0.041049    0.52688      0.02791      0.53261       0.48214   \n",
       "2014    0.041836    0.83871      0.04884      0.94565       0.60714   \n",
       "446     0.005855    0.81720      0.77442      0.82609       0.80357   \n",
       "1732    0.018883    0.09677      0.07907      0.09783       0.16071   \n",
       "1872    0.020444    0.97849      0.33488      1.00000       0.71429   \n",
       "1370    0.024431    1.00000      0.53953      1.00000       0.83929   \n",
       "\n",
       "      compliantNorm  bestpracNorm  latencyNorm  documentNorm  \n",
       "1197        0.67164       0.64444      0.00199       0.08333  \n",
       "2014        1.00000       0.71111      0.00728       0.11458  \n",
       "446         0.83582       0.86667      0.00042       0.04167  \n",
       "1732        1.00000       0.42222      0.00393       0.90625  \n",
       "1872        1.00000       0.75556      0.00475       0.39583  \n",
       "1370        0.83582       0.82222      0.00018       0.09375  "
      ]
     },
     "execution_count": 7,
     "metadata": {},
     "output_type": "execute_result"
    }
   ],
   "source": [
    "X.sample(6)"
   ]
  },
  {
   "cell_type": "code",
   "execution_count": 8,
   "id": "7ea79eb2",
   "metadata": {},
   "outputs": [
    {
     "data": {
      "text/html": [
       "<div>\n",
       "<style scoped>\n",
       "    .dataframe tbody tr th:only-of-type {\n",
       "        vertical-align: middle;\n",
       "    }\n",
       "\n",
       "    .dataframe tbody tr th {\n",
       "        vertical-align: top;\n",
       "    }\n",
       "\n",
       "    .dataframe thead th {\n",
       "        text-align: right;\n",
       "    }\n",
       "</style>\n",
       "<table border=\"1\" class=\"dataframe\">\n",
       "  <thead>\n",
       "    <tr style=\"text-align: right;\">\n",
       "      <th></th>\n",
       "      <th>k_Means</th>\n",
       "    </tr>\n",
       "  </thead>\n",
       "  <tbody>\n",
       "    <tr>\n",
       "      <th>830</th>\n",
       "      <td>2</td>\n",
       "    </tr>\n",
       "    <tr>\n",
       "      <th>647</th>\n",
       "      <td>3</td>\n",
       "    </tr>\n",
       "    <tr>\n",
       "      <th>381</th>\n",
       "      <td>3</td>\n",
       "    </tr>\n",
       "    <tr>\n",
       "      <th>2149</th>\n",
       "      <td>1</td>\n",
       "    </tr>\n",
       "    <tr>\n",
       "      <th>1857</th>\n",
       "      <td>3</td>\n",
       "    </tr>\n",
       "  </tbody>\n",
       "</table>\n",
       "</div>"
      ],
      "text/plain": [
       "      k_Means\n",
       "830         2\n",
       "647         3\n",
       "381         3\n",
       "2149        1\n",
       "1857        3"
      ]
     },
     "execution_count": 8,
     "metadata": {},
     "output_type": "execute_result"
    }
   ],
   "source": [
    "y.sample(5)"
   ]
  },
  {
   "cell_type": "code",
   "execution_count": 9,
   "id": "5a2f3cd0",
   "metadata": {},
   "outputs": [],
   "source": [
    "from sklearn.model_selection import train_test_split\n",
    "X_train,X_test,y_train,y_test = train_test_split(X,y,test_size=0.2,random_state=42)"
   ]
  },
  {
   "cell_type": "code",
   "execution_count": 10,
   "id": "d3de3961",
   "metadata": {},
   "outputs": [
    {
     "data": {
      "text/plain": [
       "(2005, 9)"
      ]
     },
     "execution_count": 10,
     "metadata": {},
     "output_type": "execute_result"
    }
   ],
   "source": [
    "X_train.shape"
   ]
  },
  {
   "cell_type": "code",
   "execution_count": 11,
   "id": "c5b75c65",
   "metadata": {
    "scrolled": true
   },
   "outputs": [
    {
     "data": {
      "text/plain": [
       "(502, 9)"
      ]
     },
     "execution_count": 11,
     "metadata": {},
     "output_type": "execute_result"
    }
   ],
   "source": [
    "X_test.shape"
   ]
  },
  {
   "cell_type": "code",
   "execution_count": 12,
   "id": "cea0f814",
   "metadata": {},
   "outputs": [
    {
     "data": {
      "text/plain": [
       "(2005, 1)"
      ]
     },
     "execution_count": 12,
     "metadata": {},
     "output_type": "execute_result"
    }
   ],
   "source": [
    "y_train.shape"
   ]
  },
  {
   "cell_type": "code",
   "execution_count": 13,
   "id": "caeef3e9",
   "metadata": {
    "scrolled": true
   },
   "outputs": [
    {
     "data": {
      "text/plain": [
       "(502, 1)"
      ]
     },
     "execution_count": 13,
     "metadata": {},
     "output_type": "execute_result"
    }
   ],
   "source": [
    "y_test.shape"
   ]
  },
  {
   "cell_type": "code",
   "execution_count": 14,
   "id": "137515e2",
   "metadata": {},
   "outputs": [
    {
     "data": {
      "text/plain": [
       "Text(0.5, 1.0, 'documentNorm')"
      ]
     },
     "execution_count": 14,
     "metadata": {},
     "output_type": "execute_result"
    },
    {
     "data": {
      "image/png": "[encoded data removed]",
      "text/plain": [
       "<Figure size 1008x288 with 1 Axes>"
      ]
     },
     "metadata": {
      "needs_background": "light"
     },
     "output_type": "display_data"
    },
    {
     "data": {
      "image/png": "[encoded data removed]",
      "text/plain": [
       "<Figure size 1008x288 with 1 Axes>"
      ]
     },
     "metadata": {
      "needs_background": "light"
     },
     "output_type": "display_data"
    },
    {
     "data": {
      "image/png": "[encoded data removed]",
      "text/plain": [
       "<Figure size 1008x288 with 1 Axes>"
      ]
     },
     "metadata": {
      "needs_background": "light"
     },
     "output_type": "display_data"
    },
    {
     "data": {
      "image/png": "[encoded data removed]",
      "text/plain": [
       "<Figure size 1008x288 with 1 Axes>"
      ]
     },
     "metadata": {
      "needs_background": "light"
     },
     "output_type": "display_data"
    },
    {
     "data": {
      "image/png": "[encoded data removed]",
      "text/plain": [
       "<Figure size 1008x288 with 1 Axes>"
      ]
     },
     "metadata": {
      "needs_background": "light"
     },
     "output_type": "display_data"
    },
    {
     "data": {
      "image/png": "[encoded data removed]",
      "text/plain": [
       "<Figure size 1008x288 with 1 Axes>"
      ]
     },
     "metadata": {
      "needs_background": "light"
     },
     "output_type": "display_data"
    },
    {
     "data": {
      "image/png": "[encoded data removed]",
      "text/plain": [
       "<Figure size 1008x288 with 1 Axes>"
      ]
     },
     "metadata": {
      "needs_background": "light"
     },
     "output_type": "display_data"
    },
    {
     "data": {
      "image/png": "[encoded data removed]",
      "text/plain": [
       "<Figure size 1008x288 with 1 Axes>"
      ]
     },
     "metadata": {
      "needs_background": "light"
     },
     "output_type": "display_data"
    },
    {
     "data": {
      "image/png": "[encoded data removed]",
      "text/plain": [
       "<Figure size 1008x288 with 1 Axes>"
      ]
     },
     "metadata": {
      "needs_background": "light"
     },
     "output_type": "display_data"
    }
   ],
   "source": [
    "plt.figure(figsize=(14,4))\n",
    "plt.subplot(121)\n",
    "sns.distplot(X_train['Dependency'])\n",
    "plt.title('Dependency')\n",
    "\n",
    "plt.figure(figsize=(14,4))\n",
    "plt.subplot(121)\n",
    "sns.distplot(X_train['AvailNorm'])\n",
    "plt.title('AvailNorm')\n",
    "\n",
    "plt.figure(figsize=(14,4))\n",
    "plt.subplot(121)\n",
    "sns.distplot(X_train['throughNorm'])\n",
    "plt.title('throughNorm')\n",
    "\n",
    "plt.figure(figsize=(14,4))\n",
    "plt.subplot(121)\n",
    "sns.distplot(X_train['successNorm'])\n",
    "plt.title('successNorm')\n",
    "\n",
    "plt.figure(figsize=(14,4))\n",
    "plt.subplot(121)\n",
    "sns.distplot(X_train['reliableNORM'])\n",
    "plt.title('reliableNORM')\n",
    "\n",
    "plt.figure(figsize=(14,4))\n",
    "plt.subplot(121)\n",
    "sns.distplot(X_train['compliantNorm'])\n",
    "plt.title('compliantNorm')\n",
    "\n",
    "plt.figure(figsize=(14,4))\n",
    "plt.subplot(121)\n",
    "sns.distplot(X_train['bestpracNorm'])\n",
    "plt.title('bestpracNorm')\n",
    "\n",
    "plt.figure(figsize=(14,4))\n",
    "plt.subplot(121)\n",
    "sns.distplot(X_train['latencyNorm'])\n",
    "plt.title('latencyNorm')\n",
    "\n",
    "plt.figure(figsize=(14,4))\n",
    "plt.subplot(121)\n",
    "sns.distplot(X_train['documentNorm'])\n",
    "plt.title('documentNorm')"
   ]
  },
  {
   "cell_type": "code",
   "execution_count": 15,
   "id": "5907f487",
   "metadata": {},
   "outputs": [],
   "source": [
    "from sklearn.tree import DecisionTreeClassifier\n",
    "Dt = DecisionTreeClassifier()"
   ]
  },
  {
   "cell_type": "code",
   "execution_count": 16,
   "id": "571ae673",
   "metadata": {},
   "outputs": [],
   "source": [
    "Dt.fit(X_train,y_train)\n",
    "y_pred = Dt.predict(X_test)"
   ]
  },
  {
   "cell_type": "code",
   "execution_count": 17,
   "id": "ae5ae74e",
   "metadata": {},
   "outputs": [
    {
     "data": {
      "text/plain": [
       "0.9681274900398407"
      ]
     },
     "execution_count": 17,
     "metadata": {},
     "output_type": "execute_result"
    }
   ],
   "source": [
    "from sklearn.metrics import accuracy_score\n",
    "accuracy_score(y_test,y_pred)"
   ]
  },
  {
   "cell_type": "code",
   "execution_count": 18,
   "id": "970af37d",
   "metadata": {},
   "outputs": [],
   "source": [
    "from sklearn.model_selection import cross_val_score\n",
    "accuracies = cross_val_score(Dt, X = X_train, y = y_train, cv = 10)"
   ]
  },
  {
   "cell_type": "code",
   "execution_count": 19,
   "id": "4c8b160a",
   "metadata": {},
   "outputs": [
    {
     "name": "stdout",
     "output_type": "stream",
     "text": [
      "[0.97014925 0.960199   0.95024876 0.94527363 0.94527363 0.95\n",
      " 0.965      0.965      0.955      0.965     ]\n"
     ]
    }
   ],
   "source": [
    "print(accuracies)"
   ]
  },
  {
   "cell_type": "code",
   "execution_count": 20,
   "id": "7a03d319",
   "metadata": {},
   "outputs": [
    {
     "data": {
      "text/plain": [
       "RandomForestClassifier(n_estimators=10)"
      ]
     },
     "execution_count": 20,
     "metadata": {},
     "output_type": "execute_result"
    }
   ],
   "source": [
    "from sklearn.ensemble import RandomForestClassifier\n",
    "model = RandomForestClassifier(n_estimators=10)\n",
    "model.fit(X_test,y_test) "
   ]
  },
  {
   "cell_type": "code",
   "execution_count": 21,
   "id": "1d5a4493",
   "metadata": {},
   "outputs": [
    {
     "data": {
      "text/plain": [
       "0.99800796812749"
      ]
     },
     "execution_count": 21,
     "metadata": {},
     "output_type": "execute_result"
    }
   ],
   "source": [
    "model.score(X_test,y_test)"
   ]
  },
  {
   "cell_type": "code",
   "execution_count": 22,
   "id": "36d2379f",
   "metadata": {},
   "outputs": [],
   "source": [
    "y_predicted = model.predict(X_test)"
   ]
  },
  {
   "cell_type": "code",
   "execution_count": 23,
   "id": "f272cf90",
   "metadata": {},
   "outputs": [
    {
     "data": {
      "text/plain": [
       "0.99800796812749"
      ]
     },
     "execution_count": 23,
     "metadata": {},
     "output_type": "execute_result"
    }
   ],
   "source": [
    "from sklearn.metrics import accuracy_score\n",
    "accuracy_score(y_test,y_predicted)"
   ]
  },
  {
   "cell_type": "code",
   "execution_count": 24,
   "id": "d9ce02f2",
   "metadata": {},
   "outputs": [],
   "source": [
    "from sklearn.model_selection import cross_val_score\n",
    "accuracies = cross_val_score(model, X = X_train, y = y_train, cv = 10)"
   ]
  },
  {
   "cell_type": "code",
   "execution_count": 25,
   "id": "3d24b9eb",
   "metadata": {},
   "outputs": [
    {
     "name": "stdout",
     "output_type": "stream",
     "text": [
      "RandomForestClassifier [0.97512438 0.9800995  0.97512438 0.95024876 0.96517413 0.955\n",
      " 0.975      0.98       0.975      0.955     ]\n"
     ]
    }
   ],
   "source": [
    "print(\"RandomForestClassifier\",accuracies)"
   ]
  },
  {
   "cell_type": "code",
   "execution_count": null,
   "id": "fcfa7cb2",
   "metadata": {},
   "outputs": [],
   "source": []
  }
 ],
 "metadata": {
  "kernelspec": {
   "display_name": "Python 3 (ipykernel)",
   "language": "python",
   "name": "python3"
  },
  "language_info": {
   "codemirror_mode": {
    "name": "ipython",
    "version": 3
   },
   "file_extension": ".py",
   "mimetype": "text/x-python",
   "name": "python",
   "nbconvert_exporter": "python",
   "pygments_lexer": "ipython3",
   "version": "3.9.7"
  }
 },
 "nbformat": 4,
 "nbformat_minor": 5
}
